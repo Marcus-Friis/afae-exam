{
 "cells": [
  {
   "cell_type": "code",
   "execution_count": 1,
   "metadata": {},
   "outputs": [],
   "source": [
    "import numpy as np\n",
    "import pandas as pd\n",
    "\n",
    "import matplotlib.pyplot as plt\n",
    "plt.style.use('ggplot')\n",
    "\n",
    "import torch\n",
    "import torch.nn as nn\n",
    "from torch.utils.data import DataLoader, TensorDataset\n",
    "\n",
    "from sklearn.preprocessing import MinMaxScaler, StandardScaler, OneHotEncoder\n",
    "from sklearn.pipeline import Pipeline\n",
    "from sklearn.compose import ColumnTransformer\n",
    "from sklearn.model_selection import train_test_split\n",
    "from sklearn.metrics import  accuracy_score, balanced_accuracy_score, confusion_matrix, classification_report, roc_auc_score, roc_curve, auc\n",
    "from sklearn.linear_model import LogisticRegression"
   ]
  },
  {
   "cell_type": "code",
   "execution_count": 2,
   "metadata": {},
   "outputs": [
    {
     "data": {
      "text/html": [
       "<div>\n",
       "<style scoped>\n",
       "    .dataframe tbody tr th:only-of-type {\n",
       "        vertical-align: middle;\n",
       "    }\n",
       "\n",
       "    .dataframe tbody tr th {\n",
       "        vertical-align: top;\n",
       "    }\n",
       "\n",
       "    .dataframe thead th {\n",
       "        text-align: right;\n",
       "    }\n",
       "</style>\n",
       "<table border=\"1\" class=\"dataframe\">\n",
       "  <thead>\n",
       "    <tr style=\"text-align: right;\">\n",
       "      <th></th>\n",
       "      <th>age</th>\n",
       "      <th>workclass</th>\n",
       "      <th>fnlwgt</th>\n",
       "      <th>education</th>\n",
       "      <th>educational-num</th>\n",
       "      <th>marital-status</th>\n",
       "      <th>occupation</th>\n",
       "      <th>relationship</th>\n",
       "      <th>race</th>\n",
       "      <th>gender</th>\n",
       "      <th>capital-gain</th>\n",
       "      <th>capital-loss</th>\n",
       "      <th>hours-per-week</th>\n",
       "      <th>native-country</th>\n",
       "      <th>income</th>\n",
       "      <th>target</th>\n",
       "    </tr>\n",
       "  </thead>\n",
       "  <tbody>\n",
       "    <tr>\n",
       "      <th>0</th>\n",
       "      <td>25</td>\n",
       "      <td>Private</td>\n",
       "      <td>226802</td>\n",
       "      <td>11th</td>\n",
       "      <td>7</td>\n",
       "      <td>Never-married</td>\n",
       "      <td>Machine-op-inspct</td>\n",
       "      <td>Own-child</td>\n",
       "      <td>Black</td>\n",
       "      <td>Male</td>\n",
       "      <td>0</td>\n",
       "      <td>0</td>\n",
       "      <td>40</td>\n",
       "      <td>United-States</td>\n",
       "      <td>&lt;=50K</td>\n",
       "      <td>0</td>\n",
       "    </tr>\n",
       "    <tr>\n",
       "      <th>1</th>\n",
       "      <td>38</td>\n",
       "      <td>Private</td>\n",
       "      <td>89814</td>\n",
       "      <td>HS-grad</td>\n",
       "      <td>9</td>\n",
       "      <td>Married-civ-spouse</td>\n",
       "      <td>Farming-fishing</td>\n",
       "      <td>Husband</td>\n",
       "      <td>White</td>\n",
       "      <td>Male</td>\n",
       "      <td>0</td>\n",
       "      <td>0</td>\n",
       "      <td>50</td>\n",
       "      <td>United-States</td>\n",
       "      <td>&lt;=50K</td>\n",
       "      <td>0</td>\n",
       "    </tr>\n",
       "    <tr>\n",
       "      <th>2</th>\n",
       "      <td>28</td>\n",
       "      <td>Local-gov</td>\n",
       "      <td>336951</td>\n",
       "      <td>Assoc-acdm</td>\n",
       "      <td>12</td>\n",
       "      <td>Married-civ-spouse</td>\n",
       "      <td>Protective-serv</td>\n",
       "      <td>Husband</td>\n",
       "      <td>White</td>\n",
       "      <td>Male</td>\n",
       "      <td>0</td>\n",
       "      <td>0</td>\n",
       "      <td>40</td>\n",
       "      <td>United-States</td>\n",
       "      <td>&gt;50K</td>\n",
       "      <td>1</td>\n",
       "    </tr>\n",
       "    <tr>\n",
       "      <th>3</th>\n",
       "      <td>44</td>\n",
       "      <td>Private</td>\n",
       "      <td>160323</td>\n",
       "      <td>Some-college</td>\n",
       "      <td>10</td>\n",
       "      <td>Married-civ-spouse</td>\n",
       "      <td>Machine-op-inspct</td>\n",
       "      <td>Husband</td>\n",
       "      <td>Black</td>\n",
       "      <td>Male</td>\n",
       "      <td>7688</td>\n",
       "      <td>0</td>\n",
       "      <td>40</td>\n",
       "      <td>United-States</td>\n",
       "      <td>&gt;50K</td>\n",
       "      <td>1</td>\n",
       "    </tr>\n",
       "    <tr>\n",
       "      <th>4</th>\n",
       "      <td>18</td>\n",
       "      <td>?</td>\n",
       "      <td>103497</td>\n",
       "      <td>Some-college</td>\n",
       "      <td>10</td>\n",
       "      <td>Never-married</td>\n",
       "      <td>?</td>\n",
       "      <td>Own-child</td>\n",
       "      <td>White</td>\n",
       "      <td>Female</td>\n",
       "      <td>0</td>\n",
       "      <td>0</td>\n",
       "      <td>30</td>\n",
       "      <td>United-States</td>\n",
       "      <td>&lt;=50K</td>\n",
       "      <td>0</td>\n",
       "    </tr>\n",
       "  </tbody>\n",
       "</table>\n",
       "</div>"
      ],
      "text/plain": [
       "   age  workclass  fnlwgt     education  educational-num      marital-status   \n",
       "0   25    Private  226802          11th                7       Never-married  \\\n",
       "1   38    Private   89814       HS-grad                9  Married-civ-spouse   \n",
       "2   28  Local-gov  336951    Assoc-acdm               12  Married-civ-spouse   \n",
       "3   44    Private  160323  Some-college               10  Married-civ-spouse   \n",
       "4   18          ?  103497  Some-college               10       Never-married   \n",
       "\n",
       "          occupation relationship   race  gender  capital-gain  capital-loss   \n",
       "0  Machine-op-inspct    Own-child  Black    Male             0             0  \\\n",
       "1    Farming-fishing      Husband  White    Male             0             0   \n",
       "2    Protective-serv      Husband  White    Male             0             0   \n",
       "3  Machine-op-inspct      Husband  Black    Male          7688             0   \n",
       "4                  ?    Own-child  White  Female             0             0   \n",
       "\n",
       "   hours-per-week native-country income  target  \n",
       "0              40  United-States  <=50K       0  \n",
       "1              50  United-States  <=50K       0  \n",
       "2              40  United-States   >50K       1  \n",
       "3              40  United-States   >50K       1  \n",
       "4              30  United-States  <=50K       0  "
      ]
     },
     "execution_count": 2,
     "metadata": {},
     "output_type": "execute_result"
    }
   ],
   "source": [
    "income = pd.read_csv('data/income.csv')\n",
    "income['target'] = income.income.map({'<=50K': 0, '>50K': 1})\n",
    "income.head()"
   ]
  },
  {
   "cell_type": "code",
   "execution_count": 3,
   "metadata": {},
   "outputs": [],
   "source": [
    "nom_features = ['workclass', 'education', 'marital-status', 'occupation', 'relationship', 'native-country']\n",
    "num_features = ['educational-num']\n",
    "target = 'target'\n",
    "groups = ['age', 'race', 'gender']"
   ]
  },
  {
   "cell_type": "code",
   "execution_count": 4,
   "metadata": {},
   "outputs": [
    {
     "name": "stdout",
     "output_type": "stream",
     "text": [
      "Training data shape: (39073, 96) \ttarget shape: (39073,)\n",
      "Test data shape: (9769, 96) \t\ttarget shape: (9769,)\n"
     ]
    }
   ],
   "source": [
    "preprocessing = ColumnTransformer(\n",
    "    [('onehotencoder', OneHotEncoder(), nom_features),\n",
    "     ('standardscaler', StandardScaler(), num_features)\n",
    "     ])\n",
    "\n",
    "income_train, income_test = train_test_split(income, test_size=0.2, random_state=42)\n",
    "\n",
    "X_train = preprocessing.fit_transform(income_train).toarray()\n",
    "y_train = income_train[target].to_numpy()\n",
    "gender_train = income_train.gender.map({'Male': 0, 'Female': 1}).to_numpy()\n",
    "\n",
    "X_test = preprocessing.transform(income_test).toarray()\n",
    "y_test = income_test[target].to_numpy()\n",
    "gender_test = income_test.gender.map({'Male': 0, 'Female': 1}).to_numpy()\n",
    "\n",
    "print('Training data shape:', X_train.shape, '\\ttarget shape:', y_train.shape)\n",
    "print('Test data shape:', X_test.shape, '\\t\\ttarget shape:', y_test.shape)"
   ]
  },
  {
   "cell_type": "code",
   "execution_count": 5,
   "metadata": {},
   "outputs": [
    {
     "data": {
      "text/plain": [
       "0.8394922714709796"
      ]
     },
     "execution_count": 5,
     "metadata": {},
     "output_type": "execute_result"
    }
   ],
   "source": [
    "logreg = LogisticRegression(max_iter=1000, random_state=42, penalty=None)\n",
    "logreg.fit(X_train, y_train)\n",
    "logreg.score(X_test, y_test)"
   ]
  },
  {
   "cell_type": "code",
   "execution_count": 6,
   "metadata": {},
   "outputs": [],
   "source": [
    "class BinaryLogisticRegression(nn.Module):\n",
    "    def __init__(self,\n",
    "                 in_dim: int):\n",
    "        super().__init__()\n",
    "        \n",
    "        self.layer = nn.Linear(in_dim, 1)\n",
    "        self.sigmoid = nn.Sigmoid()\n",
    "        \n",
    "    def forward(self, x):\n",
    "        return self.sigmoid(self.layer(x)).flatten()"
   ]
  },
  {
   "cell_type": "code",
   "execution_count": 7,
   "metadata": {},
   "outputs": [],
   "source": [
    "\n",
    "tensordata_train = TensorDataset(torch.tensor(X_train).float(), torch.tensor(y_train).float(), torch.tensor(gender_train).float())\n",
    "trainloader = DataLoader(tensordata_train, batch_size=64, shuffle=True)\n",
    "\n",
    "X_test, y_test = torch.tensor(X_test).float(), torch.tensor(y_test).float()"
   ]
  },
  {
   "cell_type": "code",
   "execution_count": 8,
   "metadata": {},
   "outputs": [
    {
     "name": "stdout",
     "output_type": "stream",
     "text": [
      "0\n",
      "loss: 0.3996248245239258 accuracy_score 0.8253659535264612\n",
      "1\n",
      "loss: 0.371258407831192 accuracy_score 0.8348858634455932\n",
      "2\n",
      "loss: 0.36333805322647095 accuracy_score 0.8375473436380387\n",
      "3\n",
      "loss: 0.36015674471855164 accuracy_score 0.8369331559013206\n",
      "4\n",
      "loss: 0.35869091749191284 accuracy_score 0.8379568021291841\n",
      "5\n",
      "loss: 0.35775062441825867 accuracy_score 0.8370355205241069\n",
      "6\n",
      "loss: 0.3573512136936188 accuracy_score 0.8386733544886887\n",
      "7\n",
      "loss: 0.35720115900039673 accuracy_score 0.8390828129798341\n",
      "8\n",
      "loss: 0.3571660816669464 accuracy_score 0.8394922714709796\n",
      "9\n",
      "loss: 0.35693907737731934 accuracy_score 0.839594636093766\n"
     ]
    }
   ],
   "source": [
    "model = BinaryLogisticRegression(X_train.shape[1])\n",
    "\n",
    "n_epochs = 10\n",
    "\n",
    "loss_fn = nn.BCELoss()\n",
    "\n",
    "optimizer = torch.optim.Adam(model.parameters(), lr=1e-3)\n",
    "\n",
    "batch_losses = []\n",
    "losses = []\n",
    "val_losses = []\n",
    "accs = []\n",
    "\n",
    "for epoch in range(n_epochs):\n",
    "    print(epoch)\n",
    "    model.train()\n",
    "    for x, y, gender in trainloader:\n",
    "        b_size = x.size(0)\n",
    "        \n",
    "        y_hat = model(x)\n",
    "        loss = loss_fn(y_hat, y)\n",
    "        \n",
    "        optimizer.zero_grad()\n",
    "        loss.backward()\n",
    "        optimizer.step()\n",
    "        \n",
    "        batch_losses.append(loss.item())\n",
    "    \n",
    "    losses.append(np.mean(batch_losses[-b_size:]))\n",
    "    \n",
    "    model.eval()\n",
    "    with torch.no_grad():\n",
    "        y_hat = model(X_test)\n",
    "        loss = loss_fn(y_hat, y_test)\n",
    "        acc = accuracy_score(y_test.detach(), y_hat.detach().round())\n",
    "        print('loss:', loss.item(), 'accuracy_score', acc)\n",
    "        val_losses.append(loss.item())\n",
    "        accs.append(acc)\n",
    "        "
   ]
  },
  {
   "cell_type": "code",
   "execution_count": 9,
   "metadata": {},
   "outputs": [
    {
     "data": {
      "text/plain": [
       "<matplotlib.legend.Legend at 0x1e0319291e0>"
      ]
     },
     "execution_count": 9,
     "metadata": {},
     "output_type": "execute_result"
    },
    {
     "data": {
      "image/png": "[encoded data removed]",
      "text/plain": [
       "<Figure size 640x480 with 1 Axes>"
      ]
     },
     "metadata": {},
     "output_type": "display_data"
    }
   ],
   "source": [
    "fig, ax = plt.subplots()\n",
    "ax.plot(losses, label='train loss')\n",
    "ax.plot(val_losses, label='validation loss')\n",
    "ax.set_xlabel('epochs')\n",
    "ax.set_ylabel('BCE loss')\n",
    "ax.set_title('Loss curves of baseline Logistic Regression')\n",
    "ax.legend()"
   ]
  },
  {
   "cell_type": "code",
   "execution_count": 10,
   "metadata": {},
   "outputs": [],
   "source": [
    "preds = model(X_test).detach().numpy().round()\n",
    "inv_preds = np.abs(preds - 1)\n",
    "mask = gender_test == 0"
   ]
  },
  {
   "cell_type": "code",
   "execution_count": 11,
   "metadata": {},
   "outputs": [
    {
     "name": "stdout",
     "output_type": "stream",
     "text": [
      "0.839594636093766\n",
      "0.7370878342911827\n",
      "Equalized odds:\n",
      "True case\t 0.24082322223928737 0.061694290976058934\n",
      "False case\t 0.7591767777607127 0.9383057090239411\n"
     ]
    }
   ],
   "source": [
    "print(accuracy_score(y_test.detach().numpy(), preds))\n",
    "print(balanced_accuracy_score(y_test, preds))\n",
    "\n",
    "print('Equalized odds:')\n",
    "print('True case\\t', preds[mask].sum() / mask.sum(), preds[~mask].sum() / (~mask).sum())\n",
    "print('False case\\t', inv_preds[mask].sum() / mask.sum(), inv_preds[~mask].sum() / (~mask).sum())"
   ]
  },
  {
   "attachments": {},
   "cell_type": "markdown",
   "metadata": {},
   "source": [
    "To make models fair according to ***Equalized Odds***, we implement the group fairness constraint from:\n",
    "\n",
    "Richard Berk, Hoda Heidari, Shahin Jabbari, Matthew Joseph, Michael Kearns, Jamie Morgenstern, Seth\n",
    "Neel, and Aaron Roth. A convex framework for fair regression. arXiv preprint arXiv:1706.02409, 2017.\n",
    "\n",
    "$$\n",
    "f_2(\\mathbf{w}, S)=\\left(\\frac{1}{n_1 n_2} \\sum_{\\substack{\\left(\\mathbf{x}_i, y_i\\right) \\in S_1 \\\\\\left(\\mathbf{x}_j, y_j\\right) \\in S_2}} d\\left(y_i, y_j\\right)\\left(\\mathbf{w} \\cdot \\mathbf{x}_i-\\mathbf{w} \\cdot \\mathbf{x}_j\\right)\\right)^2\n",
    "$$\n",
    "\n",
    "This cost function does not work in our setting. We see that dividng by $n_1n_2$ before squaring leads to a tiny penalty, which has no effect on the classifier. Instead, we implement the loss as:\n",
    "\n",
    "$$\n",
    "f_2(\\mathbf{w}, S)=\\frac{1}{n_1 n_2} \\left(\\sum_{\\substack{\\left(\\mathbf{x}_i, y_i\\right) \\in S_1 \\\\\\left(\\mathbf{x}_j, y_j\\right) \\in S_2}} d\\left(y_i, y_j\\right)\\left(\\mathbf{w} \\cdot \\mathbf{x}_i-\\mathbf{w} \\cdot \\mathbf{x}_j\\right)\\right)^2\n",
    "$$"
   ]
  },
  {
   "cell_type": "code",
   "execution_count": 12,
   "metadata": {},
   "outputs": [],
   "source": [
    "class GroupFairnessConstraint(nn.Module):\n",
    "    def __init__(self):\n",
    "        super(GroupFairnessConstraint, self).__init__()\n",
    "        \n",
    "    \n",
    "    def forward(self, y_pred, y_true, groups):\n",
    "        mask = groups == 0\n",
    "        S_pred_1, S_true_1 = y_pred[mask],  y_true[mask]\n",
    "        S_pred_2, S_true_2 = y_pred[~mask], y_true[~mask]\n",
    "        \n",
    "        n_1 = S_pred_1.shape[0]\n",
    "        n_2 = S_pred_2.shape[0]\n",
    "\n",
    "        idx1 = torch.arange(n_1)\n",
    "        idx2 = torch.arange(n_2)\n",
    "\n",
    "        idx1 = idx1.view(-1, 1)\n",
    "        idx2 = idx2.view(1, -1)\n",
    "\n",
    "        idx1 = idx1.repeat(1, idx2.size(1))\n",
    "        idx2 = idx2.repeat(idx1.size(0), 1)\n",
    "\n",
    "        result = torch.stack((idx1, idx2), dim=2).view(-1, 2)\n",
    "        idx1 = result[:, 0]\n",
    "        idx2 = result[:, 1]\n",
    "        \n",
    "        vector = self.d(S_true_1[idx1], S_true_2[idx2]) * (S_pred_1[idx1] - S_pred_2[idx2])\n",
    "        cost = vector.sum() ** 2\n",
    "        cost = cost / (n_1*n_2)\n",
    "\n",
    "        return cost\n",
    "        \n",
    "    def d(self, y_i, y_j):\n",
    "        return (y_i == y_j).int()\n",
    "    "
   ]
  },
  {
   "cell_type": "code",
   "execution_count": 13,
   "metadata": {},
   "outputs": [
    {
     "name": "stdout",
     "output_type": "stream",
     "text": [
      "0\n",
      "loss: 72.54751586914062 accuracy_score 0.7805302487460334\n",
      "1\n",
      "loss: 26.766307830810547 accuracy_score 0.7882075954550107\n",
      "2\n",
      "loss: 40.3596076965332 accuracy_score 0.8004913501893746\n",
      "3\n",
      "loss: 21.323612213134766 accuracy_score 0.8025386426451019\n",
      "4\n",
      "loss: 7.944929122924805 accuracy_score 0.7998771624526564\n",
      "5\n",
      "loss: 13.070347785949707 accuracy_score 0.8015149964172382\n",
      "6\n",
      "loss: 7.328364372253418 accuracy_score 0.80202681953117\n",
      "7\n",
      "loss: 10.127708435058594 accuracy_score 0.8048930289691882\n",
      "8\n",
      "loss: 40.486244201660156 accuracy_score 0.8149247620022521\n",
      "9\n",
      "loss: 5.316739559173584 accuracy_score 0.8144129388883202\n"
     ]
    }
   ],
   "source": [
    "model = BinaryLogisticRegression(X_train.shape[1])\n",
    "\n",
    "n_epochs = 10\n",
    "\n",
    "loss_fn = nn.BCELoss()\n",
    "\n",
    "gamma = 0.1\n",
    "fairness_penalty = GroupFairnessConstraint()\n",
    "\n",
    "optimizer = torch.optim.Adam(model.parameters(), lr=1e-3)\n",
    "\n",
    "batch_losses = []\n",
    "losses = []\n",
    "val_losses = []\n",
    "accs = []\n",
    "\n",
    "for epoch in range(n_epochs):\n",
    "    print(epoch)\n",
    "    model.train()\n",
    "    for x, y, gender in trainloader:\n",
    "        b_size = x.size(0)\n",
    "        \n",
    "        y_hat = model(x)\n",
    "        loss = loss_fn(y_hat, y) + gamma * fairness_penalty(y_hat, y, gender)\n",
    "        \n",
    "        optimizer.zero_grad()\n",
    "        loss.backward()\n",
    "        optimizer.step()\n",
    "        \n",
    "        batch_losses.append(loss.item())\n",
    "    \n",
    "    losses.append(np.mean(batch_losses[-b_size:]))\n",
    "    \n",
    "    model.eval()\n",
    "    with torch.no_grad():\n",
    "        y_hat = model(X_test)\n",
    "        loss = loss_fn(y_hat, y_test) + gamma*fairness_penalty(y_hat, y_test, gender_test)\n",
    "        acc = accuracy_score(y_test.detach(), y_hat.detach().round())\n",
    "        print('loss:', loss.item(), 'accuracy_score', acc)\n",
    "        val_losses.append(loss.item())\n",
    "        accs.append(acc)"
   ]
  },
  {
   "cell_type": "code",
   "execution_count": 14,
   "metadata": {},
   "outputs": [
    {
     "name": "stdout",
     "output_type": "stream",
     "text": [
      "Equalized odds:\n",
      "True case\t 0.0958378129319613 0.04266421117249847\n",
      "False case\t 0.9041621870680387 0.9573357888275016\n"
     ]
    }
   ],
   "source": [
    "preds = model(X_test).detach().numpy().round()\n",
    "inv_preds = np.abs(preds - 1)\n",
    "mask = gender_test == 0\n",
    "print('Equalized odds:')\n",
    "print('True case\\t', preds[mask].sum() / mask.sum(), preds[~mask].sum() / (~mask).sum())\n",
    "print('False case\\t', inv_preds[mask].sum() / mask.sum(), inv_preds[~mask].sum() / (~mask).sum())"
   ]
  },
  {
   "cell_type": "code",
   "execution_count": 15,
   "metadata": {},
   "outputs": [
    {
     "data": {
      "text/plain": [
       "[<matplotlib.lines.Line2D at 0x1e06e4b0a00>]"
      ]
     },
     "execution_count": 15,
     "metadata": {},
     "output_type": "execute_result"
    },
    {
     "data": {
      "image/png": "[encoded data removed]",
      "text/plain": [
       "<Figure size 640x480 with 1 Axes>"
      ]
     },
     "metadata": {},
     "output_type": "display_data"
    }
   ],
   "source": [
    "plt.plot(losses)"
   ]
  }
 ],
 "metadata": {
  "kernelspec": {
   "display_name": "py310",
   "language": "python",
   "name": "python3"
  },
  "language_info": {
   "codemirror_mode": {
    "name": "ipython",
    "version": 3
   },
   "file_extension": ".py",
   "mimetype": "text/x-python",
   "name": "python",
   "nbconvert_exporter": "python",
   "pygments_lexer": "ipython3",
   "version": "3.10.11"
  },
  "orig_nbformat": 4
 },
 "nbformat": 4,
 "nbformat_minor": 2
}
